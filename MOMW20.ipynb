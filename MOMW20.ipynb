{
 "cells": [
  {
   "cell_type": "code",
   "execution_count": 1,
   "metadata": {},
   "outputs": [],
   "source": [
    "import pandas as pd\n",
    "import altair as alt"
   ]
  },
  {
   "cell_type": "code",
   "execution_count": 2,
   "metadata": {},
   "outputs": [],
   "source": [
    "momw20 = pd.read_csv('--')"
   ]
  },
  {
   "cell_type": "code",
   "execution_count": 3,
   "metadata": {},
   "outputs": [],
   "source": [
    "animal_emoji = {\n",
    "    \"Rat\": \"🐀\",\n",
    "    \"House cat\": \"🐈\",\n",
    "    \"Medium sized dog\": \"🐩\",\n",
    "    \"Large dog\": \"🐕\",\n",
    "    \"Kangaroo\": \"🦘\",\n",
    "    \"Eagle\": \"🦅\",\n",
    "    \"Grizzly Bear\": \"🐻\",\n",
    "    \"Wolf\": \"🐺\",\n",
    "    \"Lion\": \"🦁\",\n",
    "    \"Gorilla\": \"🦍\",\n",
    "    \"Chimpanzee\": \"🐒\",\n",
    "    \"King Cobra\": \"🐍\",\n",
    "    \"Elephant\": \"🐘\",\n",
    "    \"Crocodile\": \"🐊\",\n",
    "    \"Goose\": \"🦢\"\n",
    "}"
   ]
  },
  {
   "cell_type": "code",
   "execution_count": 5,
   "metadata": {},
   "outputs": [],
   "source": [
    "momw20[\"emoji\"] = momw20.animal.apply(lambda x: animal_emoji[x])\n",
    "momw20[\"animal_emoji\"] = momw20.apply(lambda t: t.animal + \" \" + t.emoji, axis=1)"
   ]
  },
  {
   "cell_type": "code",
   "execution_count": 7,
   "metadata": {},
   "outputs": [],
   "source": [
    "male = momw20[[\"animal_emoji\",\"animal\",\"emoji\",\"male\"]].rename(columns={\"male\":\"pct\"})\n",
    "male[\"gender\"] = \"male\"\n",
    "female = momw20[[\"animal_emoji\",\"animal\",\"emoji\",\"female\"]].rename(columns={\"female\":\"pct\"})\n",
    "female[\"gender\"] = \"female\"\n",
    "momw20_alt = pd.concat([male,female])"
   ]
  },
  {
   "cell_type": "code",
   "execution_count": 13,
   "metadata": {},
   "outputs": [],
   "source": [
    "momw20_alt.pct = momw20_alt.pct.apply(lambda x: x*100)\n",
    "momw20_alt[\"Winning odds\"] = momw20_alt.pct.apply(lambda x: str(int(x))+'%')"
   ]
  },
  {
   "cell_type": "code",
   "execution_count": 21,
   "metadata": {},
   "outputs": [],
   "source": [
    "momw20_alt.rename(columns={\"gender\":\"Gender\"}, inplace=True)"
   ]
  },
  {
   "cell_type": "code",
   "execution_count": 22,
   "metadata": {},
   "outputs": [
    {
     "data": {
      "text/html": [
       "<div>\n",
       "<style scoped>\n",
       "    .dataframe tbody tr th:only-of-type {\n",
       "        vertical-align: middle;\n",
       "    }\n",
       "\n",
       "    .dataframe tbody tr th {\n",
       "        vertical-align: top;\n",
       "    }\n",
       "\n",
       "    .dataframe thead th {\n",
       "        text-align: right;\n",
       "    }\n",
       "</style>\n",
       "<table border=\"1\" class=\"dataframe\">\n",
       "  <thead>\n",
       "    <tr style=\"text-align: right;\">\n",
       "      <th></th>\n",
       "      <th>animal_emoji</th>\n",
       "      <th>animal</th>\n",
       "      <th>emoji</th>\n",
       "      <th>pct</th>\n",
       "      <th>Gender</th>\n",
       "      <th>Winning odds</th>\n",
       "    </tr>\n",
       "  </thead>\n",
       "  <tbody>\n",
       "    <tr>\n",
       "      <th>0</th>\n",
       "      <td>Rat 🐀</td>\n",
       "      <td>Rat</td>\n",
       "      <td>🐀</td>\n",
       "      <td>76.0</td>\n",
       "      <td>male</td>\n",
       "      <td>76%</td>\n",
       "    </tr>\n",
       "    <tr>\n",
       "      <th>1</th>\n",
       "      <td>House cat 🐈</td>\n",
       "      <td>House cat</td>\n",
       "      <td>🐈</td>\n",
       "      <td>74.0</td>\n",
       "      <td>male</td>\n",
       "      <td>74%</td>\n",
       "    </tr>\n",
       "    <tr>\n",
       "      <th>2</th>\n",
       "      <td>Medium sized dog 🐩</td>\n",
       "      <td>Medium sized dog</td>\n",
       "      <td>🐩</td>\n",
       "      <td>60.0</td>\n",
       "      <td>male</td>\n",
       "      <td>60%</td>\n",
       "    </tr>\n",
       "    <tr>\n",
       "      <th>3</th>\n",
       "      <td>Large dog 🐕</td>\n",
       "      <td>Large dog</td>\n",
       "      <td>🐕</td>\n",
       "      <td>31.0</td>\n",
       "      <td>male</td>\n",
       "      <td>31%</td>\n",
       "    </tr>\n",
       "    <tr>\n",
       "      <th>4</th>\n",
       "      <td>Kangaroo 🦘</td>\n",
       "      <td>Kangaroo</td>\n",
       "      <td>🦘</td>\n",
       "      <td>17.0</td>\n",
       "      <td>male</td>\n",
       "      <td>17%</td>\n",
       "    </tr>\n",
       "  </tbody>\n",
       "</table>\n",
       "</div>"
      ],
      "text/plain": [
       "         animal_emoji            animal emoji   pct Gender Winning odds\n",
       "0               Rat 🐀               Rat     🐀  76.0   male          76%\n",
       "1         House cat 🐈         House cat     🐈  74.0   male          74%\n",
       "2  Medium sized dog 🐩  Medium sized dog     🐩  60.0   male          60%\n",
       "3         Large dog 🐕         Large dog     🐕  31.0   male          31%\n",
       "4          Kangaroo 🦘          Kangaroo     🦘  17.0   male          17%"
      ]
     },
     "execution_count": 22,
     "metadata": {},
     "output_type": "execute_result"
    }
   ],
   "source": [
    "momw20_alt.head()"
   ]
  },
  {
   "cell_type": "code",
   "execution_count": 15,
   "metadata": {},
   "outputs": [],
   "source": [
    "male_color = \"#57c1ac\"\n",
    "female_color = \"#7924ef\""
   ]
  },
  {
   "cell_type": "code",
   "execution_count": 25,
   "metadata": {},
   "outputs": [
    {
     "data": {
      "text/html": [
       "\n",
       "<div id=\"altair-viz-c86b6bee7b8946d1851595d07aad4e36\"></div>\n",
       "<script type=\"text/javascript\">\n",
       "  (function(spec, embedOpt){\n",
       "    let outputDiv = document.currentScript.previousElementSibling;\n",
       "    if (outputDiv.id !== \"altair-viz-c86b6bee7b8946d1851595d07aad4e36\") {\n",
       "      outputDiv = document.getElementById(\"altair-viz-c86b6bee7b8946d1851595d07aad4e36\");\n",
       "    }\n",
       "    const paths = {\n",
       "      \"vega\": \"https://cdn.jsdelivr.net/npm//vega@5?noext\",\n",
       "      \"vega-lib\": \"https://cdn.jsdelivr.net/npm//vega-lib?noext\",\n",
       "      \"vega-lite\": \"https://cdn.jsdelivr.net/npm//vega-lite@4.8.1?noext\",\n",
       "      \"vega-embed\": \"https://cdn.jsdelivr.net/npm//vega-embed@6?noext\",\n",
       "    };\n",
       "\n",
       "    function loadScript(lib) {\n",
       "      return new Promise(function(resolve, reject) {\n",
       "        var s = document.createElement('script');\n",
       "        s.src = paths[lib];\n",
       "        s.async = true;\n",
       "        s.onload = () => resolve(paths[lib]);\n",
       "        s.onerror = () => reject(`Error loading script: ${paths[lib]}`);\n",
       "        document.getElementsByTagName(\"head\")[0].appendChild(s);\n",
       "      });\n",
       "    }\n",
       "\n",
       "    function showError(err) {\n",
       "      outputDiv.innerHTML = `<div class=\"error\" style=\"color:red;\">${err}</div>`;\n",
       "      throw err;\n",
       "    }\n",
       "\n",
       "    function displayChart(vegaEmbed) {\n",
       "      vegaEmbed(outputDiv, spec, embedOpt)\n",
       "        .catch(err => showError(`Javascript Error: ${err.message}<br>This usually means there's a typo in your chart specification. See the javascript console for the full traceback.`));\n",
       "    }\n",
       "\n",
       "    if(typeof define === \"function\" && define.amd) {\n",
       "      requirejs.config({paths});\n",
       "      require([\"vega-embed\"], displayChart, err => showError(`Error loading script: ${err.message}`));\n",
       "    } else if (typeof vegaEmbed === \"function\") {\n",
       "      displayChart(vegaEmbed);\n",
       "    } else {\n",
       "      loadScript(\"vega\")\n",
       "        .then(() => loadScript(\"vega-lite\"))\n",
       "        .then(() => loadScript(\"vega-embed\"))\n",
       "        .catch(showError)\n",
       "        .then(() => displayChart(vegaEmbed));\n",
       "    }\n",
       "  })({\"config\": {\"view\": {\"continuousWidth\": 400, \"continuousHeight\": 300}}, \"data\": {\"name\": \"data-50bc9f8108fe21fa4b60845460934a00\"}, \"mark\": {\"type\": \"bar\", \"opacity\": 0.4}, \"encoding\": {\"color\": {\"type\": \"nominal\", \"field\": \"Gender\", \"legend\": {\"title\": \"Gender\"}, \"scale\": {\"domain\": [\"male\", \"female\"], \"range\": [\"#57c1ac\", \"#7924ef\"]}}, \"order\": {\"type\": \"quantitative\", \"field\": \"pct\", \"sort\": \"descending\"}, \"tooltip\": [{\"type\": \"nominal\", \"field\": \"Gender\"}, {\"type\": \"nominal\", \"field\": \"Winning odds\"}], \"x\": {\"type\": \"quantitative\", \"axis\": {\"gridColor\": {\"condition\": {\"test\": \"datum.value == 50\", \"value\": \"red\"}, \"value\": \"grey\"}, \"gridOpacity\": {\"condition\": {\"test\": \"datum.value == 50\", \"value\": 0.7}, \"value\": 0.3}, \"labelColor\": {\"condition\": {\"test\": \"datum.value == 50\", \"value\": \"red\"}, \"value\": \"black\"}, \"values\": [10, 20, 30, 40, 50, 60, 70]}, \"field\": \"pct\", \"stack\": null, \"title\": \"Winning odds (%)\"}, \"y\": {\"type\": \"nominal\", \"field\": \"animal_emoji\", \"sort\": {\"op\": \"max\", \"field\": \"pct\", \"order\": \"descending\"}, \"title\": \"\"}}, \"height\": 400, \"title\": {\"text\": \"What animal could you beat in a fight?\", \"subtitle\": \"Which of the following animals, if any, do you think you could beat in a fight if you were unarmed?\"}, \"width\": 600, \"$schema\": \"https://vega.github.io/schema/vega-lite/v4.8.1.json\", \"datasets\": {\"data-50bc9f8108fe21fa4b60845460934a00\": [{\"animal_emoji\": \"Rat \\ud83d\\udc00\", \"animal\": \"Rat\", \"emoji\": \"\\ud83d\\udc00\", \"pct\": 76.0, \"Gender\": \"male\", \"Winning odds\": \"76%\"}, {\"animal_emoji\": \"Lion \\ud83e\\udd81\", \"animal\": \"Lion\", \"emoji\": \"\\ud83e\\udd81\", \"pct\": 7.000000000000001, \"Gender\": \"male\", \"Winning odds\": \"7%\"}, {\"animal_emoji\": \"House cat \\ud83d\\udc08\", \"animal\": \"House cat\", \"emoji\": \"\\ud83d\\udc08\", \"pct\": 74.0, \"Gender\": \"male\", \"Winning odds\": \"74%\"}, {\"animal_emoji\": \"Goose \\ud83e\\udda2\", \"animal\": \"Goose\", \"emoji\": \"\\ud83e\\udda2\", \"pct\": 71.0, \"Gender\": \"male\", \"Winning odds\": \"71%\"}, {\"animal_emoji\": \"Crocodile \\ud83d\\udc0a\", \"animal\": \"Crocodile\", \"emoji\": \"\\ud83d\\udc0a\", \"pct\": 10.0, \"Gender\": \"male\", \"Winning odds\": \"10%\"}, {\"animal_emoji\": \"Elephant \\ud83d\\udc18\", \"animal\": \"Elephant\", \"emoji\": \"\\ud83d\\udc18\", \"pct\": 9.0, \"Gender\": \"male\", \"Winning odds\": \"9%\"}, {\"animal_emoji\": \"Chimpanzee \\ud83d\\udc12\", \"animal\": \"Chimpanzee\", \"emoji\": \"\\ud83d\\udc12\", \"pct\": 22.0, \"Gender\": \"male\", \"Winning odds\": \"22%\"}, {\"animal_emoji\": \"Gorilla \\ud83e\\udd8d\", \"animal\": \"Gorilla\", \"emoji\": \"\\ud83e\\udd8d\", \"pct\": 9.0, \"Gender\": \"male\", \"Winning odds\": \"9%\"}, {\"animal_emoji\": \"King Cobra \\ud83d\\udc0d\", \"animal\": \"King Cobra\", \"emoji\": \"\\ud83d\\udc0d\", \"pct\": 23.0, \"Gender\": \"male\", \"Winning odds\": \"23%\"}, {\"animal_emoji\": \"Wolf \\ud83d\\udc3a\", \"animal\": \"Wolf\", \"emoji\": \"\\ud83d\\udc3a\", \"pct\": 16.0, \"Gender\": \"male\", \"Winning odds\": \"16%\"}, {\"animal_emoji\": \"Grizzly Bear \\ud83d\\udc3b\", \"animal\": \"Grizzly Bear\", \"emoji\": \"\\ud83d\\udc3b\", \"pct\": 7.000000000000001, \"Gender\": \"male\", \"Winning odds\": \"7%\"}, {\"animal_emoji\": \"Eagle \\ud83e\\udd85\", \"animal\": \"Eagle\", \"emoji\": \"\\ud83e\\udd85\", \"pct\": 38.0, \"Gender\": \"male\", \"Winning odds\": \"38%\"}, {\"animal_emoji\": \"Kangaroo \\ud83e\\udd98\", \"animal\": \"Kangaroo\", \"emoji\": \"\\ud83e\\udd98\", \"pct\": 17.0, \"Gender\": \"male\", \"Winning odds\": \"17%\"}, {\"animal_emoji\": \"Large dog \\ud83d\\udc15\", \"animal\": \"Large dog\", \"emoji\": \"\\ud83d\\udc15\", \"pct\": 31.0, \"Gender\": \"male\", \"Winning odds\": \"31%\"}, {\"animal_emoji\": \"Medium sized dog \\ud83d\\udc29\", \"animal\": \"Medium sized dog\", \"emoji\": \"\\ud83d\\udc29\", \"pct\": 60.0, \"Gender\": \"male\", \"Winning odds\": \"60%\"}, {\"animal_emoji\": \"Wolf \\ud83d\\udc3a\", \"animal\": \"Wolf\", \"emoji\": \"\\ud83d\\udc3a\", \"pct\": 9.0, \"Gender\": \"female\", \"Winning odds\": \"9%\"}, {\"animal_emoji\": \"Crocodile \\ud83d\\udc0a\", \"animal\": \"Crocodile\", \"emoji\": \"\\ud83d\\udc0a\", \"pct\": 8.0, \"Gender\": \"female\", \"Winning odds\": \"8%\"}, {\"animal_emoji\": \"Elephant \\ud83d\\udc18\", \"animal\": \"Elephant\", \"emoji\": \"\\ud83d\\udc18\", \"pct\": 8.0, \"Gender\": \"female\", \"Winning odds\": \"8%\"}, {\"animal_emoji\": \"King Cobra \\ud83d\\udc0d\", \"animal\": \"King Cobra\", \"emoji\": \"\\ud83d\\udc0d\", \"pct\": 8.0, \"Gender\": \"female\", \"Winning odds\": \"8%\"}, {\"animal_emoji\": \"Chimpanzee \\ud83d\\udc12\", \"animal\": \"Chimpanzee\", \"emoji\": \"\\ud83d\\udc12\", \"pct\": 12.0, \"Gender\": \"female\", \"Winning odds\": \"12%\"}, {\"animal_emoji\": \"Gorilla \\ud83e\\udd8d\", \"animal\": \"Gorilla\", \"emoji\": \"\\ud83e\\udd8d\", \"pct\": 8.0, \"Gender\": \"female\", \"Winning odds\": \"8%\"}, {\"animal_emoji\": \"Lion \\ud83e\\udd81\", \"animal\": \"Lion\", \"emoji\": \"\\ud83e\\udd81\", \"pct\": 8.0, \"Gender\": \"female\", \"Winning odds\": \"8%\"}, {\"animal_emoji\": \"Rat \\ud83d\\udc00\", \"animal\": \"Rat\", \"emoji\": \"\\ud83d\\udc00\", \"pct\": 68.0, \"Gender\": \"female\", \"Winning odds\": \"68%\"}, {\"animal_emoji\": \"Grizzly Bear \\ud83d\\udc3b\", \"animal\": \"Grizzly Bear\", \"emoji\": \"\\ud83d\\udc3b\", \"pct\": 6.0, \"Gender\": \"female\", \"Winning odds\": \"6%\"}, {\"animal_emoji\": \"Eagle \\ud83e\\udd85\", \"animal\": \"Eagle\", \"emoji\": \"\\ud83e\\udd85\", \"pct\": 23.0, \"Gender\": \"female\", \"Winning odds\": \"23%\"}, {\"animal_emoji\": \"Kangaroo \\ud83e\\udd98\", \"animal\": \"Kangaroo\", \"emoji\": \"\\ud83e\\udd98\", \"pct\": 11.0, \"Gender\": \"female\", \"Winning odds\": \"11%\"}, {\"animal_emoji\": \"Large dog \\ud83d\\udc15\", \"animal\": \"Large dog\", \"emoji\": \"\\ud83d\\udc15\", \"pct\": 15.0, \"Gender\": \"female\", \"Winning odds\": \"15%\"}, {\"animal_emoji\": \"Medium sized dog \\ud83d\\udc29\", \"animal\": \"Medium sized dog\", \"emoji\": \"\\ud83d\\udc29\", \"pct\": 39.0, \"Gender\": \"female\", \"Winning odds\": \"39%\"}, {\"animal_emoji\": \"House cat \\ud83d\\udc08\", \"animal\": \"House cat\", \"emoji\": \"\\ud83d\\udc08\", \"pct\": 64.0, \"Gender\": \"female\", \"Winning odds\": \"64%\"}, {\"animal_emoji\": \"Goose \\ud83e\\udda2\", \"animal\": \"Goose\", \"emoji\": \"\\ud83e\\udda2\", \"pct\": 51.0, \"Gender\": \"female\", \"Winning odds\": \"51%\"}]}}, {\"mode\": \"vega-lite\"});\n",
       "</script>"
      ],
      "text/plain": [
       "alt.Chart(...)"
      ]
     },
     "execution_count": 25,
     "metadata": {},
     "output_type": "execute_result"
    }
   ],
   "source": [
    "ch = alt.Chart(momw20_alt.sort_values(\"Gender\",ascending=False)).mark_bar(opacity=0.4).encode(\n",
    "    x=alt.X('pct', stack=None, axis=alt.Axis(\n",
    "        values=[x * 10 for x in range(1,8)],\n",
    "        labelColor=alt.condition('datum.value == 50', alt.value('red'), alt.value('black')),\n",
    "        gridColor=alt.condition('datum.value == 50', alt.value('red'), alt.value(\"grey\")),\n",
    "        gridOpacity=alt.condition('datum.value == 50', alt.value(0.7), alt.value(0.3))\n",
    "    )\n",
    "           ),\n",
    "    y=alt.Y('animal_emoji',sort={\"op\":\"max\",\"field\": \"pct\", \"order\":\"descending\"}),\n",
    "    tooltip=['Gender','Winning odds'],\n",
    "    order=alt.Order('pct',sort='descending'),\n",
    "    color=alt.Color('Gender', legend=alt.Legend(title=\"Gender\"), scale=alt.Scale(domain=[\"male\",\"female\"],range=[male_color,female_color]))\n",
    ").properties(\n",
    "    title = {\n",
    "        \"text\": \"What animal could you beat in a fight?\",\n",
    "        \"subtitle\": \"Which of the following animals, if any, do you think you could beat in a fight if you were unarmed?\"\n",
    "    },\n",
    "    width = 600,\n",
    "    height = 400,\n",
    ")\n",
    "\n",
    "ch.encoding.x.title = 'Winning odds (%)'\n",
    "ch.encoding.y.title = ''\n",
    "ch"
   ]
  },
  {
   "cell_type": "code",
   "execution_count": 26,
   "metadata": {},
   "outputs": [
    {
     "data": {
      "text/plain": [
       "RendererRegistry.enable('html')"
      ]
     },
     "execution_count": 26,
     "metadata": {},
     "output_type": "execute_result"
    }
   ],
   "source": [
    "alt.renderers.enable('html')"
   ]
  },
  {
   "cell_type": "code",
   "execution_count": 27,
   "metadata": {},
   "outputs": [],
   "source": [
    "ch.save('momw20.html')"
   ]
  },
  {
   "cell_type": "code",
   "execution_count": null,
   "metadata": {},
   "outputs": [],
   "source": []
  },
  {
   "cell_type": "code",
   "execution_count": null,
   "metadata": {},
   "outputs": [],
   "source": []
  }
 ],
 "metadata": {
  "kernelspec": {
   "display_name": "Python 3",
   "language": "python",
   "name": "python3"
  },
  "language_info": {
   "codemirror_mode": {
    "name": "ipython",
    "version": 3
   },
   "file_extension": ".py",
   "mimetype": "text/x-python",
   "name": "python",
   "nbconvert_exporter": "python",
   "pygments_lexer": "ipython3",
   "version": "3.6.8"
  }
 },
 "nbformat": 4,
 "nbformat_minor": 2
}
